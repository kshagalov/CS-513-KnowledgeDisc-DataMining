{
 "cells": [
  {
   "cell_type": "code",
   "execution_count": 1,
   "metadata": {},
   "outputs": [
    {
     "name": "stdout",
     "output_type": "stream",
     "text": [
      "Predicted Outcome: 0.825606729748658\n",
      "Adjusted Weight A to z: 0.9002996599739052\n",
      "Adjusted Weight B to z: 0.9003070855297625\n"
     ]
    }
   ],
   "source": [
    "import numpy as np\n",
    "\n",
    "def sigmoid(x):\n",
    "    return 1 / (1 + np.exp(-x))\n",
    "\n",
    "# Input values\n",
    "x_input = 1\n",
    "node1_input_A = 0.4\n",
    "node2_input_A = 0.7\n",
    "node3_input_A = 0.7\n",
    "node4_input_A = 0.2\n",
    "\n",
    "# Forward pass\n",
    "# Hidden layer A\n",
    "weighted_sum_A = x_input * 0.5 + node1_input_A * 0.6 + node2_input_A * 0.8 + node3_input_A * 0.6 + node4_input_A * 0.2\n",
    "output_A = sigmoid(weighted_sum_A)\n",
    "\n",
    "# Hidden layer B\n",
    "weighted_sum_B = x_input * 0.7 + node1_input_A * 0.9 + node2_input_A * 0.8 + node3_input_A * 0.4 + node4_input_A * 0.2\n",
    "output_B = sigmoid(weighted_sum_B)\n",
    "\n",
    "# Output layer z\n",
    "weighted_sum_z = output_A * 0.9 + output_B * 0.9\n",
    "predicted_output = sigmoid(weighted_sum_z)\n",
    "\n",
    "print(\"Predicted Outcome:\", predicted_output)\n",
    "\n",
    "# Actual output\n",
    "actual_output = 0.85\n",
    "\n",
    "# Calculate error\n",
    "error = actual_output - predicted_output\n",
    "\n",
    "# Backward pass (adjust weights)\n",
    "learning_rate = 0.1\n",
    "delta_z = error * predicted_output * (1 - predicted_output)  # Derivative of sigmoid\n",
    "\n",
    "# Update weights for A to z\n",
    "weight_A_to_z = 0.9 + learning_rate * delta_z * output_A\n",
    "\n",
    "# Update weights for B to z\n",
    "weight_B_to_z = 0.9 + learning_rate * delta_z * output_B\n",
    "\n",
    "print(\"Adjusted Weight A to z:\", weight_A_to_z)\n",
    "print(\"Adjusted Weight B to z:\", weight_B_to_z)\n"
   ]
  }
 ],
 "metadata": {
  "kernelspec": {
   "display_name": "Python 3",
   "language": "python",
   "name": "python3"
  },
  "language_info": {
   "codemirror_mode": {
    "name": "ipython",
    "version": 3
   },
   "file_extension": ".py",
   "mimetype": "text/x-python",
   "name": "python",
   "nbconvert_exporter": "python",
   "pygments_lexer": "ipython3",
   "version": "3.12.0"
  }
 },
 "nbformat": 4,
 "nbformat_minor": 2
}
