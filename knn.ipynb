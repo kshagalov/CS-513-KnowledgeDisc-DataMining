{
 "cells": [
  {
   "cell_type": "code",
   "execution_count": 1,
   "metadata": {},
   "outputs": [],
   "source": [
    "# CS 513 Final Project\n",
    "#Fiona Brockner, Katherine Shagalov, Fenella Lachica"
   ]
  },
  {
   "cell_type": "code",
   "execution_count": 2,
   "id": "5178c42d",
   "metadata": {},
   "outputs": [],
   "source": [
    "import numpy as np\n",
    "import pandas as pd\n",
    "from sklearn.model_selection import train_test_split\n",
    "from sklearn.neighbors import KNeighborsClassifier "
   ]
  },
  {
   "cell_type": "code",
   "execution_count": 3,
   "id": "b14ae950",
   "metadata": {},
   "outputs": [],
   "source": [
    "#Read the data in and remove any missing values\n",
    "att_type={'academic_performance':'category'}\n",
    "df = pd.read_excel('StressLevelDataset.xlsx')"
   ]
  },
  {
   "cell_type": "code",
   "execution_count": 11,
   "id": "9be31ef0",
   "metadata": {},
   "outputs": [],
   "source": [
    "from sklearn.model_selection import train_test_split\n",
    "from sklearn.metrics import classification_report\n",
    "predictors = ['anxiety_level', 'self_esteem', 'mental_health_history', 'depression','headache', 'blood_pressure', 'sleep_quality', 'breathing_problem', 'noise_level', \n",
    "            'living_conditions', 'safety', 'basic_needs', 'study_load', 'teacher_student_relationship', 'future_career_concerns','social_support', 'peer_pressure',\n",
    "            'extracurricular_activities', 'bullying']\n",
    "factor = ['academic_performance']\n",
    "x = df[predictors]\n",
    "y = df[factor]\n",
    "x_train, x_test, y_train, y_test = train_test_split(x, y, test_size=0.3, random_state=44, shuffle = True)"
   ]
  },
  {
   "cell_type": "code",
   "execution_count": 13,
   "id": "4a557df9",
   "metadata": {},
   "outputs": [
    {
     "name": "stdout",
     "output_type": "stream",
     "text": [
      "Classification Reports for Each Run:\n",
      "Run 1:\n",
      "              precision    recall  f1-score   support\n",
      "\n",
      "           0       0.11      0.09      0.10        11\n",
      "           1       0.38      0.44      0.40        55\n",
      "           2       0.45      0.47      0.46       106\n",
      "           3       0.40      0.41      0.40        46\n",
      "           4       0.41      0.30      0.35        60\n",
      "           5       0.47      0.48      0.48        52\n",
      "\n",
      "    accuracy                           0.42       330\n",
      "   macro avg       0.37      0.37      0.36       330\n",
      "weighted avg       0.41      0.42      0.41       330\n",
      "\n",
      "\n",
      "Run 2:\n",
      "              precision    recall  f1-score   support\n",
      "\n",
      "           0       0.00      0.00      0.00        11\n",
      "           1       0.42      0.47      0.44        55\n",
      "           2       0.45      0.49      0.47       106\n",
      "           3       0.38      0.37      0.37        46\n",
      "           4       0.44      0.37      0.40        60\n",
      "           5       0.47      0.48      0.48        52\n",
      "\n",
      "    accuracy                           0.43       330\n",
      "   macro avg       0.36      0.36      0.36       330\n",
      "weighted avg       0.42      0.43      0.42       330\n",
      "\n",
      "\n",
      "Run 3:\n",
      "              precision    recall  f1-score   support\n",
      "\n",
      "           0       1.00      0.09      0.17        11\n",
      "           1       0.43      0.67      0.52        55\n",
      "           2       0.46      0.46      0.46       106\n",
      "           3       0.33      0.26      0.29        46\n",
      "           4       0.44      0.40      0.42        60\n",
      "           5       0.43      0.38      0.41        52\n",
      "\n",
      "    accuracy                           0.43       330\n",
      "   macro avg       0.52      0.38      0.38       330\n",
      "weighted avg       0.45      0.43      0.42       330\n",
      "\n",
      "\n",
      "Average Classification Report:\n",
      "              precision    recall  f1-score     support\n",
      "0              1.000000  0.090909  0.166667   11.000000\n",
      "1              0.425287  0.672727  0.521127   55.000000\n",
      "2              0.462264  0.462264  0.462264  106.000000\n",
      "3              0.333333  0.260870  0.292683   46.000000\n",
      "4              0.444444  0.400000  0.421053   60.000000\n",
      "5              0.434783  0.384615  0.408163   52.000000\n",
      "accuracy       0.433333  0.433333  0.433333    0.433333\n",
      "macro avg      0.516685  0.378564  0.378659  330.000000\n",
      "weighted avg   0.448483  0.433333  0.422565  330.000000\n"
     ]
    }
   ],
   "source": [
    "from sklearn.neighbors import KNeighborsClassifier\n",
    "from sklearn.metrics import accuracy_score\n",
    "k_values = [3, 5, 10]\n",
    "classification_reports = []\n",
    "\n",
    "for k in k_values:\n",
    "    knn = KNeighborsClassifier(n_neighbors = k)\n",
    "    knn.fit(x_train, y_train.values.ravel())\n",
    "    test_predictions = knn.predict(x_test)\n",
    "    report = classification_report(y_test, test_predictions, target_names=['0','1','2','3','4','5'])\n",
    "    classification_reports.append(report)\n",
    "\n",
    "print(\"Classification Reports for Each Run:\")\n",
    "for run, report in enumerate(classification_reports, start=1):\n",
    "    print(f\"Run {run}:\\n{report}\\n\")\n",
    "\n",
    "# Calculate and print the average classification report\n",
    "avg_report = classification_report(y_test, test_predictions,  target_names=['0','1','2','3','4','5'], output_dict=True)\n",
    "print(\"Average Classification Report:\")\n",
    "print(pd.DataFrame(avg_report).transpose())"
   ]
  }
 ],
 "metadata": {
  "kernelspec": {
   "display_name": "Python 3 (ipykernel)",
   "language": "python",
   "name": "python3"
  },
  "language_info": {
   "codemirror_mode": {
    "name": "ipython",
    "version": 3
   },
   "file_extension": ".py",
   "mimetype": "text/x-python",
   "name": "python",
   "nbconvert_exporter": "python",
   "pygments_lexer": "ipython3",
   "version": "3.11.5"
  }
 },
 "nbformat": 4,
 "nbformat_minor": 5
}
