{
 "cells": [
  {
   "cell_type": "code",
   "execution_count": 7,
   "metadata": {},
   "outputs": [],
   "source": [
    "import pandas as pd\n",
    "from sklearn.cluster import KMeans"
   ]
  },
  {
   "cell_type": "code",
   "execution_count": 8,
   "metadata": {},
   "outputs": [
    {
     "name": "stderr",
     "output_type": "stream",
     "text": [
      "c:\\Users\\kshag\\AppData\\Local\\Programs\\Python\\Python312\\Lib\\site-packages\\sklearn\\cluster\\_kmeans.py:1416: FutureWarning: The default value of `n_init` will change from 10 to 'auto' in 1.4. Set the value of `n_init` explicitly to suppress the warning\n",
      "  super()._check_params_vs_input(X, default_n_init=10)\n"
     ]
    }
   ],
   "source": [
    "# Load the data from the CSV file\n",
    "data = pd.read_csv(\"NYNJ_zipcode_population.csv\")\n",
    "\n",
    "# Extract the clustering attributes\n",
    "attributes = data[['Low_income', 'Total_Pop']]\n",
    "\n",
    "# Perform k-means clustering\n",
    "num_clusters = 5\n",
    "kmeans = KMeans(n_clusters=num_clusters, random_state=7)\n",
    "data['Cluster'] = kmeans.fit_predict(attributes)\n"
   ]
  },
  {
   "cell_type": "code",
   "execution_count": 9,
   "metadata": {},
   "outputs": [
    {
     "name": "stdout",
     "output_type": "stream",
     "text": [
      "\n",
      "Cluster 1 members:\n",
      "     zipcode  Low_income  Total_Pop\n",
      "3       7032       38.40      18880\n",
      "9       7302       13.86      25030\n",
      "10      7304       43.81      22210\n",
      "13      7307       37.06      21260\n",
      "25     10010       14.75      17360\n",
      "..       ...         ...        ...\n",
      "463    11801       32.23      22000\n",
      "527    12550       39.80      25580\n",
      "547    12590       29.27      18520\n",
      "550    12601       41.71      17980\n",
      "551    12603       29.35      20990\n",
      "\n",
      "[93 rows x 3 columns]\n",
      "\n",
      "Cluster 2 members:\n",
      "     zipcode  Low_income  Total_Pop\n",
      "15      7311        7.14        560\n",
      "16      6390       26.67        150\n",
      "20     10004       14.52       2480\n",
      "21     10005       11.62       5940\n",
      "22     10006       13.08       2370\n",
      "..       ...         ...        ...\n",
      "549    12594       33.67       1960\n",
      "552    12729       37.50        800\n",
      "553    12746       37.50        560\n",
      "554    12771       40.22       6290\n",
      "555    12780       34.55       1100\n",
      "\n",
      "[254 rows x 3 columns]\n",
      "\n",
      "Cluster 3 members:\n",
      "     zipcode  Low_income  Total_Pop\n",
      "18     10002       50.21      42180\n",
      "38     10025       27.38      45610\n",
      "76     10314       30.27      40740\n",
      "82     10456       60.71      40390\n",
      "88     10462       40.70      39510\n",
      "93     10467       49.60      44640\n",
      "265    11207       51.62      43530\n",
      "266    11208       53.83      44010\n",
      "270    11212       53.87      38370\n",
      "272    11214       48.21      40860\n",
      "278    11220       67.01      53900\n",
      "279    11221       44.23      39520\n",
      "284    11226       44.86      52070\n",
      "291    11234       33.79      42560\n",
      "292    11235       43.39      38700\n",
      "293    11236       40.17      47920\n",
      "298    11355       68.58      50960\n",
      "310    11368       57.43      48530\n",
      "314    11373       53.82      50870\n",
      "317    11377       46.12      45490\n",
      "320    11385       40.25      48790\n",
      "\n",
      "Cluster 4 members:\n",
      "     zipcode  Low_income  Total_Pop\n",
      "1       7029       38.40       9140\n",
      "5       7086       25.10       7690\n",
      "8       7094       23.47       9630\n",
      "14      7310       14.45       7060\n",
      "17     10001       25.76      14520\n",
      "..       ...         ...        ...\n",
      "499    11967       34.14      12860\n",
      "511    12508       31.45       8680\n",
      "517    12524       26.06       8020\n",
      "520    12533       26.67      12710\n",
      "528    12553       30.90      13040\n",
      "\n",
      "[127 rows x 3 columns]\n",
      "\n",
      "Cluster 5 members:\n",
      "     zipcode  Low_income  Total_Pop\n",
      "0       7002       35.31      31780\n",
      "2       7030       12.60      29050\n",
      "4       7047       42.16      29200\n",
      "6       7087       50.69      31840\n",
      "7       7093       45.09      29250\n",
      "..       ...         ...        ...\n",
      "357    11550       46.92      28560\n",
      "392    11706       36.96      32710\n",
      "399    11717       44.84      32270\n",
      "421    11746       32.66      33650\n",
      "431    11758       26.19      29170\n",
      "\n",
      "[61 rows x 3 columns]\n"
     ]
    }
   ],
   "source": [
    "# Display the members of each cluster\n",
    "clustered_data = {}\n",
    "for cluster_num in range(num_clusters):\n",
    "    cluster_members = data[data['Cluster'] == cluster_num]\n",
    "    clustered_data[f'Cluster {cluster_num + 1}'] = cluster_members[['zipcode', 'Low_income', 'Total_Pop']].copy()\n",
    "\n",
    "    print(f\"\\nCluster {cluster_num + 1} members:\")\n",
    "    print(cluster_members[['zipcode', 'Low_income', 'Total_Pop']])"
   ]
  }
 ],
 "metadata": {
  "kernelspec": {
   "display_name": "Python 3",
   "language": "python",
   "name": "python3"
  },
  "language_info": {
   "codemirror_mode": {
    "name": "ipython",
    "version": 3
   },
   "file_extension": ".py",
   "mimetype": "text/x-python",
   "name": "python",
   "nbconvert_exporter": "python",
   "pygments_lexer": "ipython3",
   "version": "3.12.0"
  }
 },
 "nbformat": 4,
 "nbformat_minor": 2
}
